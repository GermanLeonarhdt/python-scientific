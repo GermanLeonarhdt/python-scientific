{
 "cells": [
  {
   "cell_type": "markdown",
   "metadata": {},
   "source": [
    "# Ejercicio Final - Análisis de Datos Científicos\n",
    "**Materia Análisis de Datos Científicos y Geográficos**- \n",
    "**Comisión: ECD.2023.B: Datos Científicos**\n",
    "**Especialización en Ciencia de Datos - ITBA**\n",
    "\n",
    "**Alumno**: Germán Leonarhdt  \n",
    "**Profesor**: Rodrigo Ramele  \n",
    "\n",
    "**Fecha**: 10-8-2024"
   ]
  },
  {
   "cell_type": "code",
   "execution_count": 8,
   "metadata": {},
   "outputs": [
    {
     "name": "stdout",
     "output_type": "stream",
     "text": [
      "Baseline - Estructura de la informacion:\n",
      "              0     1      2    3    4    5\n",
      "0  1.720127e+09  78.0   90.0  0.0  0.0  0.0\n",
      "1  1.720127e+09  79.0  104.0  0.0  0.0  0.0\n",
      "2  1.720127e+09  80.0  104.0  0.0  0.0  0.0\n",
      "3  1.720127e+09  81.0  100.0  0.0  0.0  0.0\n",
      "4  1.720127e+09  82.0  105.0  0.0  0.0  0.0\n",
      "Baseline - Estructura de la informacion:\n",
      "              0     1     2    3    4    5\n",
      "0  1.720128e+09  49.0   0.0  0.0  0.0  0.0\n",
      "1  1.720128e+09  50.0 -17.0  0.0  0.0  0.0\n",
      "2  1.720128e+09  51.0   9.0  0.0  0.0  0.0\n",
      "3  1.720128e+09  52.0  52.0  0.0  0.0  0.0\n",
      "4  1.720128e+09  53.0  69.0  0.0  0.0  0.0\n"
     ]
    }
   ],
   "source": [
    "import pandas as pd\n",
    "import numpy as np\n",
    "import matplotlib.pyplot as plt\n",
    "import requests\n",
    "from io import StringIO\n",
    "\n",
    "# Importamos bases Baseline y pestañeos\n",
    "\n",
    "# Baseline\n",
    "baseline = pd.read_csv('data/baseline.dat', delimiter=' ', names = ['timestamp','counter','eeg','attention','meditation','blinking'])\n",
    "baseline = baseline.values\n",
    "baseline_eeg = baseline[:,2]\n",
    "\n",
    "print('Baseline - Estructura de la informacion:')\n",
    "baseline_df = pd.DataFrame(baseline)\n",
    "print(baseline_df.head())\n",
    "\n",
    "\n",
    "# Pestañeos\n",
    "pestaneos = pd.read_csv('data/pestaneos.dat', delimiter=' ', names = ['timestamp','counter','eeg','attention','meditation','blinking'])\n",
    "pestaneos = pestaneos.values\n",
    "pestaneos_eeg = pestaneos[:,2]\n",
    "\n",
    "print('Baseline - Estructura de la informacion:')\n",
    "pestaneos_df = pd.DataFrame(pestaneos)\n",
    "print(pestaneos_df.head())"
   ]
  },
  {
   "cell_type": "markdown",
   "metadata": {},
   "source": []
  }
 ],
 "metadata": {
  "kernelspec": {
   "display_name": "Python 3",
   "language": "python",
   "name": "python3"
  },
  "language_info": {
   "codemirror_mode": {
    "name": "ipython",
    "version": 3
   },
   "file_extension": ".py",
   "mimetype": "text/x-python",
   "name": "python",
   "nbconvert_exporter": "python",
   "pygments_lexer": "ipython3",
   "version": "3.12.4"
  }
 },
 "nbformat": 4,
 "nbformat_minor": 2
}
